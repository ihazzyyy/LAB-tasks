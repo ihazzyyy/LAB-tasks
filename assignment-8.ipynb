{
 "cells": [
  {
   "cell_type": "code",
   "execution_count": 8,
   "id": "5a17fdfd-502d-4fd5-b61e-4b5fe64409cd",
   "metadata": {},
   "outputs": [
    {
     "name": "stdout",
     "output_type": "stream",
     "text": [
      "name: hzy, age: 22\n",
      "Departmen: owner\n",
      "employee added\n",
      "\n",
      "Importing employee details\n"
     ]
    },
    {
     "ename": "IndexError",
     "evalue": "list index out of range",
     "output_type": "error",
     "traceback": [
      "\u001b[1;31m---------------------------------------------------------------------------\u001b[0m",
      "\u001b[1;31mIndexError\u001b[0m                                Traceback (most recent call last)",
      "Cell \u001b[1;32mIn[8], line 51\u001b[0m\n\u001b[0;32m     48\u001b[0m add(file, staff1)\n\u001b[0;32m     50\u001b[0m \u001b[38;5;28mprint\u001b[39m(\u001b[38;5;124m'\u001b[39m\u001b[38;5;130;01m\\n\u001b[39;00m\u001b[38;5;124mImporting employee details\u001b[39m\u001b[38;5;124m'\u001b[39m)\n\u001b[1;32m---> 51\u001b[0m read(file)\n",
      "Cell \u001b[1;32mIn[8], line 41\u001b[0m, in \u001b[0;36mread\u001b[1;34m(file)\u001b[0m\n\u001b[0;32m     39\u001b[0m reader \u001b[38;5;241m=\u001b[39m csv\u001b[38;5;241m.\u001b[39mreader(file)\n\u001b[0;32m     40\u001b[0m \u001b[38;5;28;01mfor\u001b[39;00m row \u001b[38;5;129;01min\u001b[39;00m reader:\n\u001b[1;32m---> 41\u001b[0m     \u001b[38;5;28mprint\u001b[39m(\u001b[38;5;124mf\u001b[39m\u001b[38;5;124m\"\u001b[39m\u001b[38;5;124mName: \u001b[39m\u001b[38;5;132;01m{\u001b[39;00mrow[\u001b[38;5;241m0\u001b[39m]\u001b[38;5;132;01m}\u001b[39;00m\u001b[38;5;124m, Age: \u001b[39m\u001b[38;5;132;01m{\u001b[39;00mrow[\u001b[38;5;241m1\u001b[39m]\u001b[38;5;132;01m}\u001b[39;00m\u001b[38;5;124m, Employee ID: \u001b[39m\u001b[38;5;132;01m{\u001b[39;00mrow[\u001b[38;5;241m2\u001b[39m]\u001b[38;5;132;01m}\u001b[39;00m\u001b[38;5;124m, Position: \u001b[39m\u001b[38;5;132;01m{\u001b[39;00mrow[\u001b[38;5;241m3\u001b[39m]\u001b[38;5;132;01m}\u001b[39;00m\u001b[38;5;124m, Department: \u001b[39m\u001b[38;5;132;01m{\u001b[39;00mrow[\u001b[38;5;241m4\u001b[39m]\u001b[38;5;132;01m}\u001b[39;00m\u001b[38;5;124m\"\u001b[39m)\n",
      "\u001b[1;31mIndexError\u001b[0m: list index out of range"
     ]
    }
   ],
   "source": [
    "import csv\n",
    "\n",
    "class Person:\n",
    "    def __init__(self, name, age):\n",
    "        self.name = name\n",
    "        self.age = age\n",
    "\n",
    "    def display_info(self):\n",
    "        print(f'name: {self.name}, age: {self.age}')\n",
    "\n",
    "\n",
    "class Employee:\n",
    "    def __init__(self, employee_id, position):\n",
    "        self.employee_id = employee_id\n",
    "        self.position = position\n",
    "\n",
    "    def display_info(self):\n",
    "        print(f'employee id: {self.employee_id}, position: {self.position}')\n",
    "\n",
    "\n",
    "class Staff(Person, Employee):\n",
    "    def __init__(self, name, age, employee_id, position, department):\n",
    "        Person.__init__(self, name, age)\n",
    "        Employee.__init__(self,employee_id, position)\n",
    "        self.department = department\n",
    "\n",
    "    def additional_info(self):\n",
    "        print(f'Departmen: {self.department}')\n",
    "\n",
    "def add(file, employee):\n",
    "    with open(file, 'a', newline = '') as f:\n",
    "        writer = csv.writer(f)\n",
    "        writer.writerow([employee.name, employee.age, employee.employee_id, employee.position, employee.department])\n",
    "    print('employee added')\n",
    "\n",
    "\n",
    "def read(file):\n",
    "    with open(file, 'r') as f:\n",
    "        reader = csv.reader(file)\n",
    "        for row in reader:\n",
    "            print(f\"Name: {row[0]}, Age: {row[1]}, Employee ID: {row[2]}, Position: {row[3]}, Department: {row[4]}\")\n",
    "\n",
    "staff1 = Staff('hzy', 22, '001', 'ceo', 'owner')\n",
    "staff1.display_info()\n",
    "staff1.additional_info()\n",
    "\n",
    "file = 'addtional_marks.csv'\n",
    "add(file, staff1)\n",
    "\n",
    "print('\\nImporting employee details')\n",
    "read(file)\n"
   ]
  },
  {
   "cell_type": "code",
   "execution_count": null,
   "id": "eb9aaad3-96fe-4ae7-840c-cd25744393b4",
   "metadata": {},
   "outputs": [],
   "source": []
  }
 ],
 "metadata": {
  "kernelspec": {
   "display_name": "Python 3 (ipykernel)",
   "language": "python",
   "name": "python3"
  },
  "language_info": {
   "codemirror_mode": {
    "name": "ipython",
    "version": 3
   },
   "file_extension": ".py",
   "mimetype": "text/x-python",
   "name": "python",
   "nbconvert_exporter": "python",
   "pygments_lexer": "ipython3",
   "version": "3.11.7"
  }
 },
 "nbformat": 4,
 "nbformat_minor": 5
}
