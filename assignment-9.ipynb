{
 "cells": [
  {
   "cell_type": "markdown",
   "id": "5d45cd96-4786-4c33-b621-1da62ff40c4e",
   "metadata": {},
   "source": [
    "                                    LAB TASK - 9 "
   ]
  },
  {
   "cell_type": "code",
   "execution_count": 5,
   "id": "3cb9370a-c2c5-4576-9c77-720d0d1a4c87",
   "metadata": {},
   "outputs": [
    {
     "name": "stdout",
     "output_type": "stream",
     "text": [
      "\n",
      "Retrieved Documents:\n",
      "Title: The Hobbit, Author: J.R.R. Tolkien, Genre: Fantasy, Pages: 310\n",
      "Title: AI Revolution, Author: John Doe, Journal: Tech Times, DOI: 10.1234/ai5678\n"
     ]
    }
   ],
   "source": [
    "class Document:\n",
    "    def __init__(self, title, author):\n",
    "        self.title = title\n",
    "        self.author = author\n",
    "\n",
    "    def display_info(self):\n",
    "        print(f'Title: {self.title}, Author: {self.author}')\n",
    "\n",
    "    def get_info(self):\n",
    "        return f'{self.__class__.__name__}|{self.title}|{self.author}'\n",
    "\n",
    "\n",
    "class Book(Document):\n",
    "    def __init__(self, title, author, genre=None, pages=None):\n",
    "        super().__init__(title, author)\n",
    "        self.genre = genre\n",
    "        self.pages = pages\n",
    "\n",
    "    def display_info(self):\n",
    "        print(f'Title: {self.title}, Author: {self.author}, Genre: {self.genre}, Pages: {self.pages}')\n",
    "\n",
    "    def get_info(self):\n",
    "        return f'{super().get_info()}|{self.genre}|{self.pages}'\n",
    "\n",
    "\n",
    "class Article(Document):\n",
    "    def __init__(self, title, author, journal=None, DOI=None):\n",
    "        super().__init__(title, author)\n",
    "        self.journal = journal\n",
    "        self.DOI = DOI\n",
    "\n",
    "    def display_info(self):\n",
    "        print(f'Title: {self.title}, Author: {self.author}, Journal: {self.journal}, DOI: {self.DOI}')\n",
    "\n",
    "    def get_info(self):\n",
    "        return f'{super().get_info()}|{self.journal}|{self.DOI}'\n",
    "\n",
    "\n",
    "def save_file(doc, filename):\n",
    "    with open(filename, 'a') as file:\n",
    "        file.write(doc.get_info() + '\\n')\n",
    "\n",
    "\n",
    "def retrieve(filename):\n",
    "    documents = []\n",
    "    with open(filename, 'r') as file:\n",
    "        for line in file:\n",
    "            data = line.strip().split('|')\n",
    "            doc_type = data[0]\n",
    "\n",
    "            if doc_type == 'Book':\n",
    "                documents.append(Book(data[1], data[2], data[3], data[4]))\n",
    "            elif doc_type == 'Article':\n",
    "                documents.append(Article(data[1], data[2], data[3], data[4]))\n",
    "\n",
    "    return documents\n",
    "\n",
    "\n",
    "\n",
    "book1 = Book('The Hobbit', 'J.R.R. Tolkien', genre='Fantasy', pages='310')\n",
    "article1 = Article('AI Revolution', 'John Doe', journal='Tech Times', DOI='10.1234/ai5678')\n",
    "\n",
    "save_file(book1, 'documents.txt')\n",
    "save_file(article1, 'documents.txt')\n",
    "\n",
    "print(\"\\nRetrieved Documents:\")\n",
    "documents = retrieve('documents.txt')\n",
    "for doc in documents:\n",
    "    doc.display_info()\n"
   ]
  },
  {
   "cell_type": "code",
   "execution_count": null,
   "id": "30a088bb-817a-41d6-aab7-7d61d5d944d6",
   "metadata": {},
   "outputs": [],
   "source": []
  }
 ],
 "metadata": {
  "kernelspec": {
   "display_name": "Python 3 (ipykernel)",
   "language": "python",
   "name": "python3"
  },
  "language_info": {
   "codemirror_mode": {
    "name": "ipython",
    "version": 3
   },
   "file_extension": ".py",
   "mimetype": "text/x-python",
   "name": "python",
   "nbconvert_exporter": "python",
   "pygments_lexer": "ipython3",
   "version": "3.11.7"
  }
 },
 "nbformat": 4,
 "nbformat_minor": 5
}
